{
 "cells": [
  {
   "cell_type": "markdown",
   "id": "bc0684e3",
   "metadata": {},
   "source": [
    "## List "
   ]
  },
  {
   "cell_type": "code",
   "execution_count": 40,
   "id": "b44bcf82",
   "metadata": {},
   "outputs": [],
   "source": [
    "# List is a sequence of data points such as floats, int or strings.\n",
    "# Strings should be in [], with quotation marks"
   ]
  },
  {
   "cell_type": "code",
   "execution_count": 53,
   "id": "becbd00d",
   "metadata": {},
   "outputs": [
    {
     "data": {
      "text/plain": [
       "['Yaw', 'Asante', 'Opoku']"
      ]
     },
     "execution_count": 53,
     "metadata": {},
     "output_type": "execute_result"
    }
   ],
   "source": [
    "Participants=['Yaw', 'Asante','Opoku']\n",
    "Participants"
   ]
  },
  {
   "cell_type": "code",
   "execution_count": 54,
   "id": "173be9c5",
   "metadata": {},
   "outputs": [],
   "source": [
    "# Extracting a name from the list...\"Name_of_list\"[index_of_element]\n",
    "# index starts from 0,1,2,...,n or from the back using -,-1,-2,...-n"
   ]
  },
  {
   "cell_type": "code",
   "execution_count": 55,
   "id": "47a9f536",
   "metadata": {},
   "outputs": [
    {
     "name": "stdout",
     "output_type": "stream",
     "text": [
      "Opoku\n"
     ]
    }
   ],
   "source": [
    "print (Participants[2]) # accessing the list by indexing the value 2"
   ]
  },
  {
   "cell_type": "code",
   "execution_count": 56,
   "id": "5bc4359c",
   "metadata": {},
   "outputs": [
    {
     "name": "stdout",
     "output_type": "stream",
     "text": [
      "Asante\n"
     ]
    }
   ],
   "source": [
    "print(Participant[1]) # accessing the list by indexing the value 1"
   ]
  },
  {
   "cell_type": "code",
   "execution_count": 57,
   "id": "ea48f1e4",
   "metadata": {},
   "outputs": [
    {
     "data": {
      "text/plain": [
       "'Asante'"
      ]
     },
     "execution_count": 57,
     "metadata": {},
     "output_type": "execute_result"
    }
   ],
   "source": [
    "Participants[-2]"
   ]
  },
  {
   "cell_type": "code",
   "execution_count": 58,
   "id": "8533963c",
   "metadata": {},
   "outputs": [
    {
     "data": {
      "text/plain": [
       "['Yaw', 'Asante', 'Vandal']"
      ]
     },
     "execution_count": 58,
     "metadata": {},
     "output_type": "execute_result"
    }
   ],
   "source": [
    "# to replace a name\n",
    "Participants[2]='Vandal'\n",
    "Participants"
   ]
  },
  {
   "cell_type": "code",
   "execution_count": 59,
   "id": "e4e30eb0",
   "metadata": {},
   "outputs": [
    {
     "data": {
      "text/plain": [
       "['Yaw', 'Asante']"
      ]
     },
     "execution_count": 59,
     "metadata": {},
     "output_type": "execute_result"
    }
   ],
   "source": [
    "del Participants[2]  # delete \n",
    "Participants"
   ]
  },
  {
   "cell_type": "code",
   "execution_count": 60,
   "id": "d0162f19",
   "metadata": {},
   "outputs": [
    {
     "data": {
      "text/plain": [
       "['Yaw', 'Asante', 'Emmanuel']"
      ]
     },
     "execution_count": 60,
     "metadata": {},
     "output_type": "execute_result"
    }
   ],
   "source": [
    "Participants.append(\"Emmanuel\") # add \n",
    "Participants"
   ]
  },
  {
   "cell_type": "code",
   "execution_count": 61,
   "id": "416e6170",
   "metadata": {},
   "outputs": [
    {
     "data": {
      "text/plain": [
       "['Yaw', 'Asante', 'Emmanuel', 'Opoku', 'Vandal']"
      ]
     },
     "execution_count": 61,
     "metadata": {},
     "output_type": "execute_result"
    }
   ],
   "source": [
    "Participants.extend([\"Opoku\",\"Vandal\"]) # to add another list or more than one elements\n",
    "Participants"
   ]
  },
  {
   "cell_type": "code",
   "execution_count": 66,
   "id": "332f8de3",
   "metadata": {},
   "outputs": [
    {
     "name": "stdout",
     "output_type": "stream",
     "text": [
      "The first participant is Asante.\n"
     ]
    }
   ],
   "source": [
    "print (\"The first participant is \" + Participant[1] +\".\")"
   ]
  },
  {
   "cell_type": "code",
   "execution_count": 67,
   "id": "ddfca602",
   "metadata": {},
   "outputs": [
    {
     "data": {
      "text/plain": [
       "5"
      ]
     },
     "execution_count": 67,
     "metadata": {},
     "output_type": "execute_result"
    }
   ],
   "source": [
    "len(Participants) # also tells the number in the referenced list, when not in parenthesis"
   ]
  },
  {
   "cell_type": "code",
   "execution_count": 69,
   "id": "baa5a4ae",
   "metadata": {},
   "outputs": [
    {
     "data": {
      "text/plain": [
       "12"
      ]
     },
     "execution_count": 69,
     "metadata": {},
     "output_type": "execute_result"
    }
   ],
   "source": [
    "len(\"Participants\")"
   ]
  },
  {
   "cell_type": "markdown",
   "id": "90d4de15",
   "metadata": {},
   "source": [
    "## Slicing"
   ]
  },
  {
   "cell_type": "code",
   "execution_count": 77,
   "id": "7428579b",
   "metadata": {},
   "outputs": [
    {
     "data": {
      "text/plain": [
       "['Emmanuel', 'Opoku', 'Asante', 'Yaw', 'Vandal', 'Kotepo']"
      ]
     },
     "execution_count": 77,
     "metadata": {},
     "output_type": "execute_result"
    }
   ],
   "source": [
    "Participants=['Emmanuel','Opoku','Asante','Yaw','Vandal','Kotepo']\n",
    "Participants"
   ]
  },
  {
   "cell_type": "code",
   "execution_count": 89,
   "id": "c5c52d14",
   "metadata": {},
   "outputs": [
    {
     "data": {
      "text/plain": [
       "['Emmanuel', 'Opoku', 'Asante', 'Yaw']"
      ]
     },
     "execution_count": 89,
     "metadata": {},
     "output_type": "execute_result"
    }
   ],
   "source": [
    "Participants[0:4] # Row and Column"
   ]
  },
  {
   "cell_type": "code",
   "execution_count": 85,
   "id": "8e137e7a",
   "metadata": {},
   "outputs": [
    {
     "data": {
      "text/plain": [
       "['Emmanuel', 'Opoku']"
      ]
     },
     "execution_count": 85,
     "metadata": {},
     "output_type": "execute_result"
    }
   ],
   "source": [
    "Participants[:2] # first two elements"
   ]
  },
  {
   "cell_type": "code",
   "execution_count": 86,
   "id": "272f6ba8",
   "metadata": {},
   "outputs": [
    {
     "data": {
      "text/plain": [
       "['Yaw', 'Vandal', 'Kotepo']"
      ]
     },
     "execution_count": 86,
     "metadata": {},
     "output_type": "execute_result"
    }
   ],
   "source": [
    "Participants[3:] # last 3 elements"
   ]
  },
  {
   "cell_type": "code",
   "execution_count": 90,
   "id": "d19644bf",
   "metadata": {},
   "outputs": [
    {
     "data": {
      "text/plain": [
       "'Kotepo'"
      ]
     },
     "execution_count": 90,
     "metadata": {},
     "output_type": "execute_result"
    }
   ],
   "source": [
    "Participants[-1]"
   ]
  },
  {
   "cell_type": "code",
   "execution_count": 91,
   "id": "cceafb50",
   "metadata": {},
   "outputs": [],
   "source": [
    "Participants=['Emmanuel','Opoku','Asante','Yaw','Vandal','Kotepo'] \n",
    "# we can use index to verify the position of Asante"
   ]
  },
  {
   "cell_type": "code",
   "execution_count": 92,
   "id": "71505fe1",
   "metadata": {},
   "outputs": [
    {
     "data": {
      "text/plain": [
       "2"
      ]
     },
     "execution_count": 92,
     "metadata": {},
     "output_type": "execute_result"
    }
   ],
   "source": [
    "Participants.index(\"Asante\")"
   ]
  },
  {
   "cell_type": "markdown",
   "id": "f2eedd18",
   "metadata": {},
   "source": [
    "# merging two or more lists\n"
   ]
  },
  {
   "cell_type": "code",
   "execution_count": 94,
   "id": "37063e48",
   "metadata": {},
   "outputs": [
    {
     "data": {
      "text/plain": [
       "['Otwe', 'Tusker']"
      ]
     },
     "execution_count": 94,
     "metadata": {},
     "output_type": "execute_result"
    }
   ],
   "source": [
    "Participants=['Emmanuel','Opoku','Asante','Yaw','Vandal','Kotepo']\n",
    "Newcomers=[\"Otwe\",'Tusker']\n",
    "Newcomers"
   ]
  },
  {
   "cell_type": "code",
   "execution_count": 95,
   "id": "476660fa",
   "metadata": {},
   "outputs": [
    {
     "data": {
      "text/plain": [
       "[['Emmanuel', 'Opoku', 'Asante', 'Yaw', 'Vandal', 'Kotepo'],\n",
       " ['Otwe', 'Tusker']]"
      ]
     },
     "execution_count": 95,
     "metadata": {},
     "output_type": "execute_result"
    }
   ],
   "source": [
    "Bigger_List=[Participants,Newcomers]\n",
    "Bigger_List"
   ]
  },
  {
   "cell_type": "markdown",
   "id": "cea84754",
   "metadata": {},
   "source": [
    "## Sort"
   ]
  },
  {
   "cell_type": "code",
   "execution_count": 96,
   "id": "7a16e511",
   "metadata": {},
   "outputs": [
    {
     "data": {
      "text/plain": [
       "[1, 2, 3, 4, 5]"
      ]
     },
     "execution_count": 96,
     "metadata": {},
     "output_type": "execute_result"
    }
   ],
   "source": [
    "Numbers = [1,2,3,4,5]\n",
    "Numbers.sort()\n",
    "Numbers"
   ]
  },
  {
   "cell_type": "code",
   "execution_count": 97,
   "id": "388050f1",
   "metadata": {},
   "outputs": [
    {
     "data": {
      "text/plain": [
       "[5, 4, 3, 2, 1]"
      ]
     },
     "execution_count": 97,
     "metadata": {},
     "output_type": "execute_result"
    }
   ],
   "source": [
    "Numbers.sort(reverse=True)\n",
    "Numbers"
   ]
  },
  {
   "cell_type": "code",
   "execution_count": null,
   "id": "0f5cb42e",
   "metadata": {},
   "outputs": [],
   "source": []
  }
 ],
 "metadata": {
  "kernelspec": {
   "display_name": "Python 3 (ipykernel)",
   "language": "python",
   "name": "python3"
  },
  "language_info": {
   "codemirror_mode": {
    "name": "ipython",
    "version": 3
   },
   "file_extension": ".py",
   "mimetype": "text/x-python",
   "name": "python",
   "nbconvert_exporter": "python",
   "pygments_lexer": "ipython3",
   "version": "3.9.12"
  }
 },
 "nbformat": 4,
 "nbformat_minor": 5
}
