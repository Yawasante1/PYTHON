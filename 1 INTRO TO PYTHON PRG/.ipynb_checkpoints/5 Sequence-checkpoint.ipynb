{
 "cells": [
  {
   "cell_type": "markdown",
   "id": "10587bc4",
   "metadata": {},
   "source": [
    "## List "
   ]
  },
  {
   "cell_type": "code",
   "execution_count": 40,
   "id": "50da32f4",
   "metadata": {},
   "outputs": [],
   "source": [
    "# List is a sequence of data points such as floats, int or strings.\n",
    "# Strings should be in [], with quotation marks"
   ]
  },
  {
   "cell_type": "code",
   "execution_count": 53,
   "id": "2f5a2b5c",
   "metadata": {},
   "outputs": [
    {
     "data": {
      "text/plain": [
       "['Yaw', 'Asante', 'Opoku']"
      ]
     },
     "execution_count": 53,
     "metadata": {},
     "output_type": "execute_result"
    }
   ],
   "source": [
    "Participants=['Yaw', 'Asante','Opoku']\n",
    "Participants"
   ]
  },
  {
   "cell_type": "code",
   "execution_count": 54,
   "id": "b8723193",
   "metadata": {},
   "outputs": [],
   "source": [
    "# Extracting a name from the list...\"Name_of_list\"[index_of_element]\n",
    "# index starts from 0,1,2,...,n or from the back using -,-1,-2,...-n"
   ]
  },
  {
   "cell_type": "code",
   "execution_count": 55,
   "id": "722880ea",
   "metadata": {},
   "outputs": [
    {
     "name": "stdout",
     "output_type": "stream",
     "text": [
      "Opoku\n"
     ]
    }
   ],
   "source": [
    "print (Participants[2]) # accessing the list by indexing the value 2"
   ]
  },
  {
   "cell_type": "code",
   "execution_count": 56,
   "id": "9d2277c6",
   "metadata": {},
   "outputs": [
    {
     "name": "stdout",
     "output_type": "stream",
     "text": [
      "Asante\n"
     ]
    }
   ],
   "source": [
    "print(Participant[1]) # accessing the list by indexing the value 1"
   ]
  },
  {
   "cell_type": "code",
   "execution_count": 57,
   "id": "1ead58a5",
   "metadata": {},
   "outputs": [
    {
     "data": {
      "text/plain": [
       "'Asante'"
      ]
     },
     "execution_count": 57,
     "metadata": {},
     "output_type": "execute_result"
    }
   ],
   "source": [
    "Participants[-2]"
   ]
  },
  {
   "cell_type": "code",
   "execution_count": 58,
   "id": "2036eef6",
   "metadata": {},
   "outputs": [
    {
     "data": {
      "text/plain": [
       "['Yaw', 'Asante', 'Vandal']"
      ]
     },
     "execution_count": 58,
     "metadata": {},
     "output_type": "execute_result"
    }
   ],
   "source": [
    "# to replace a name\n",
    "Participants[2]='Vandal'\n",
    "Participants"
   ]
  },
  {
   "cell_type": "code",
   "execution_count": 59,
   "id": "7c1bce3d",
   "metadata": {},
   "outputs": [
    {
     "data": {
      "text/plain": [
       "['Yaw', 'Asante']"
      ]
     },
     "execution_count": 59,
     "metadata": {},
     "output_type": "execute_result"
    }
   ],
   "source": [
    "del Participants[2]  # delete \n",
    "Participants"
   ]
  },
  {
   "cell_type": "code",
   "execution_count": 60,
   "id": "5d2f708d",
   "metadata": {},
   "outputs": [
    {
     "data": {
      "text/plain": [
       "['Yaw', 'Asante', 'Emmanuel']"
      ]
     },
     "execution_count": 60,
     "metadata": {},
     "output_type": "execute_result"
    }
   ],
   "source": [
    "Participants.append(\"Emmanuel\") # add \n",
    "Participants"
   ]
  },
  {
   "cell_type": "code",
   "execution_count": 61,
   "id": "b5b4f728",
   "metadata": {},
   "outputs": [
    {
     "data": {
      "text/plain": [
       "['Yaw', 'Asante', 'Emmanuel', 'Opoku', 'Vandal']"
      ]
     },
     "execution_count": 61,
     "metadata": {},
     "output_type": "execute_result"
    }
   ],
   "source": [
    "Participants.extend([\"Opoku\",\"Vandal\"]) # to add another list or more than one elements\n",
    "Participants"
   ]
  },
  {
   "cell_type": "code",
   "execution_count": null,
   "id": "68af49f1",
   "metadata": {},
   "outputs": [],
   "source": []
  }
 ],
 "metadata": {
  "kernelspec": {
   "display_name": "Python 3 (ipykernel)",
   "language": "python",
   "name": "python3"
  },
  "language_info": {
   "codemirror_mode": {
    "name": "ipython",
    "version": 3
   },
   "file_extension": ".py",
   "mimetype": "text/x-python",
   "name": "python",
   "nbconvert_exporter": "python",
   "pygments_lexer": "ipython3",
   "version": "3.9.12"
  }
 },
 "nbformat": 4,
 "nbformat_minor": 5
}
