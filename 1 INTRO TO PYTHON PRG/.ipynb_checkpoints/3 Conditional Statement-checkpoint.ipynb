{
 "cells": [
  {
   "cell_type": "markdown",
   "id": "9ee0ccc1",
   "metadata": {},
   "source": [
    "# Introduction to If Statement\n",
    "### for if statement, if a condition is true, conditional code, else, nothing...NB: the conditional code should be indented"
   ]
  },
  {
   "cell_type": "code",
   "execution_count": 3,
   "id": "50318fe7",
   "metadata": {},
   "outputs": [
    {
     "name": "stdout",
     "output_type": "stream",
     "text": [
      "Hooray!\n"
     ]
    }
   ],
   "source": [
    "if 5== 15/3: # if 5 equals 15/3, print Hooray\n",
    "    print(\"Hooray!\")"
   ]
  },
  {
   "cell_type": "code",
   "execution_count": 4,
   "id": "3ced1243",
   "metadata": {},
   "outputs": [],
   "source": [
    "if 2==15/3:\n",
    "    print(\"Hooray!\")"
   ]
  },
  {
   "cell_type": "code",
   "execution_count": 7,
   "id": "89bc7e22",
   "metadata": {},
   "outputs": [
    {
     "name": "stdout",
     "output_type": "stream",
     "text": [
      "Hooray!\n"
     ]
    }
   ],
   "source": [
    "if 5!=32: # reads, if 5 different from 3*6? or if 5 is not equal to 3*6, print ...\n",
    "    print(\"Hooray!\")"
   ]
  },
  {
   "cell_type": "markdown",
   "id": "3f5ebcab",
   "metadata": {},
   "source": [
    "### Else Statement...this prints the alternative conditional code."
   ]
  },
  {
   "cell_type": "code",
   "execution_count": 9,
   "id": "1808b4a6",
   "metadata": {},
   "outputs": [
    {
     "name": "stdout",
     "output_type": "stream",
     "text": [
      "Case 2\n"
     ]
    }
   ],
   "source": [
    "# the if and the else should be on the same line\n",
    "x=1\n",
    "if x >3:\n",
    "    print(\"Case 1\")\n",
    "else:\n",
    "    print(\"Case 2\")"
   ]
  },
  {
   "cell_type": "markdown",
   "id": "7746d2f2",
   "metadata": {},
   "source": [
    "### Else if Statement"
   ]
  },
  {
   "cell_type": "code",
   "execution_count": 20,
   "id": "6936a025",
   "metadata": {},
   "outputs": [],
   "source": [
    "def compare_to_five(y):\n",
    "    if y>5:\n",
    "        return(\"Greater\")\n",
    "    elif y<0:\n",
    "        return(\"Negative\") # since -5 and 0 are all <5, the first elif statment applies\n",
    "    elif y<5:\n",
    "        return(\"Less\")\n",
    "    \n",
    "    else:\n",
    "        return(\"Equal\")\n",
    "    "
   ]
  },
  {
   "cell_type": "code",
   "execution_count": 21,
   "id": "9f61b36d",
   "metadata": {},
   "outputs": [
    {
     "name": "stdout",
     "output_type": "stream",
     "text": [
      "Greater\n"
     ]
    }
   ],
   "source": [
    "print(compare_to_five(10))"
   ]
  },
  {
   "cell_type": "code",
   "execution_count": 22,
   "id": "00babb9c",
   "metadata": {},
   "outputs": [
    {
     "name": "stdout",
     "output_type": "stream",
     "text": [
      "Less\n"
     ]
    }
   ],
   "source": [
    "print(compare_to_five(2))"
   ]
  },
  {
   "cell_type": "code",
   "execution_count": 23,
   "id": "4c62c72a",
   "metadata": {},
   "outputs": [
    {
     "name": "stdout",
     "output_type": "stream",
     "text": [
      "Negative\n"
     ]
    }
   ],
   "source": [
    "print(compare_to_five(-5))"
   ]
  },
  {
   "cell_type": "code",
   "execution_count": 24,
   "id": "5f103e5c",
   "metadata": {},
   "outputs": [
    {
     "name": "stdout",
     "output_type": "stream",
     "text": [
      "Equal\n"
     ]
    }
   ],
   "source": [
    "print(compare_to_five(5))"
   ]
  },
  {
   "cell_type": "markdown",
   "id": "bd9dc9ef",
   "metadata": {},
   "source": [
    "### Boolean Values"
   ]
  },
  {
   "cell_type": "code",
   "execution_count": 33,
   "id": "569d404f",
   "metadata": {},
   "outputs": [
    {
     "name": "stdout",
     "output_type": "stream",
     "text": [
      "Incorrect\n"
     ]
    }
   ],
   "source": [
    "x = 2\n",
    "\n",
    "if x>4:\n",
    "    print (\"Correct\")\n",
    "else:\n",
    "    print (\"Incorrect\")\n"
   ]
  },
  {
   "cell_type": "code",
   "execution_count": null,
   "id": "cd79700c",
   "metadata": {},
   "outputs": [],
   "source": []
  }
 ],
 "metadata": {
  "kernelspec": {
   "display_name": "Python 3 (ipykernel)",
   "language": "python",
   "name": "python3"
  },
  "language_info": {
   "codemirror_mode": {
    "name": "ipython",
    "version": 3
   },
   "file_extension": ".py",
   "mimetype": "text/x-python",
   "name": "python",
   "nbconvert_exporter": "python",
   "pygments_lexer": "ipython3",
   "version": "3.9.12"
  }
 },
 "nbformat": 4,
 "nbformat_minor": 5
}
