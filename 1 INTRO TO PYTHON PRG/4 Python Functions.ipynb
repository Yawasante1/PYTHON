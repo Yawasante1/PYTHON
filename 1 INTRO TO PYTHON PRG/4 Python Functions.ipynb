{
 "cells": [
  {
   "cell_type": "markdown",
   "id": "e9a45e6c",
   "metadata": {},
   "source": [
    "# Defining a Function\n",
    "### Def Function_name ():\n",
    "         print(parameter)\n",
    "### Call the function...Function_name()"
   ]
  },
  {
   "cell_type": "code",
   "execution_count": 8,
   "id": "b159df2a",
   "metadata": {},
   "outputs": [],
   "source": [
    "def Asante():\n",
    "    print('Vandal')"
   ]
  },
  {
   "cell_type": "code",
   "execution_count": 9,
   "id": "69e8ec9d",
   "metadata": {},
   "outputs": [
    {
     "name": "stdout",
     "output_type": "stream",
     "text": [
      "Vandal\n"
     ]
    }
   ],
   "source": [
    "Asante()"
   ]
  },
  {
   "cell_type": "code",
   "execution_count": 10,
   "id": "1274091e",
   "metadata": {},
   "outputs": [],
   "source": [
    "def Course():\n",
    "    print(\"Financial Economics\")"
   ]
  },
  {
   "cell_type": "code",
   "execution_count": 11,
   "id": "fc04db88",
   "metadata": {},
   "outputs": [
    {
     "name": "stdout",
     "output_type": "stream",
     "text": [
      "Financial Economics\n"
     ]
    }
   ],
   "source": [
    "Course()"
   ]
  },
  {
   "cell_type": "code",
   "execution_count": 26,
   "id": "484d180f",
   "metadata": {},
   "outputs": [],
   "source": [
    "def plus_ten():\n",
    "    print (\"a+10\")"
   ]
  },
  {
   "cell_type": "code",
   "execution_count": 27,
   "id": "53a2139d",
   "metadata": {},
   "outputs": [
    {
     "name": "stdout",
     "output_type": "stream",
     "text": [
      "a+10\n"
     ]
    }
   ],
   "source": [
    "plus_ten()"
   ]
  },
  {
   "cell_type": "code",
   "execution_count": 30,
   "id": "8a9310ce",
   "metadata": {},
   "outputs": [],
   "source": [
    "def plus_10(a):\n",
    "    return a+10"
   ]
  },
  {
   "cell_type": "code",
   "execution_count": 35,
   "id": "49938fba",
   "metadata": {},
   "outputs": [
    {
     "data": {
      "text/plain": [
       "20"
      ]
     },
     "execution_count": 35,
     "metadata": {},
     "output_type": "execute_result"
    }
   ],
   "source": [
    "plus_10(10)"
   ]
  },
  {
   "cell_type": "code",
   "execution_count": 39,
   "id": "42f2df80",
   "metadata": {},
   "outputs": [],
   "source": [
    "def plus_10(a):\n",
    "    result = a+10\n",
    "    return result"
   ]
  },
  {
   "cell_type": "code",
   "execution_count": 40,
   "id": "17f153d5",
   "metadata": {},
   "outputs": [
    {
     "data": {
      "text/plain": [
       "11"
      ]
     },
     "execution_count": 40,
     "metadata": {},
     "output_type": "execute_result"
    }
   ],
   "source": [
    "plus_10(1)"
   ]
  },
  {
   "cell_type": "markdown",
   "id": "e9398fe9",
   "metadata": {},
   "source": [
    "## function within a function"
   ]
  },
  {
   "cell_type": "code",
   "execution_count": 48,
   "id": "35b19fcc",
   "metadata": {},
   "outputs": [],
   "source": [
    "def wage(w_hours):\n",
    "    return w_hours*25\n",
    "\n",
    "def with_bonus(w_hours):\n",
    "    return wage(w_hours)+50"
   ]
  },
  {
   "cell_type": "code",
   "execution_count": 50,
   "id": "a7633d27",
   "metadata": {},
   "outputs": [
    {
     "data": {
      "text/plain": [
       "(200, 250)"
      ]
     },
     "execution_count": 50,
     "metadata": {},
     "output_type": "execute_result"
    }
   ],
   "source": [
    "wage(8), with_bonus(8)"
   ]
  },
  {
   "cell_type": "code",
   "execution_count": 195,
   "id": "974a98e1",
   "metadata": {},
   "outputs": [],
   "source": [
    "def sales(Qty_Sold):\n",
    "    return Qty_Sold*100\n",
    "\n",
    "def bonus(Qty_Sold):\n",
    "    return sales(Qty_Sold) +50"
   ]
  },
  {
   "cell_type": "code",
   "execution_count": 196,
   "id": "215bea05",
   "metadata": {},
   "outputs": [
    {
     "data": {
      "text/plain": [
       "(10000, 1050)"
      ]
     },
     "execution_count": 196,
     "metadata": {},
     "output_type": "execute_result"
    }
   ],
   "source": [
    "sales(100), bonus(10)"
   ]
  },
  {
   "cell_type": "code",
   "execution_count": 197,
   "id": "e5c83bd2",
   "metadata": {},
   "outputs": [],
   "source": [
    "def sales(q):\n",
    "    if q>100: \n",
    "        return q*10+10 \n",
    "    elif 50<=q<100:\n",
    "        return q*10 \n",
    "    else:\n",
    "        return \"Sacked, you lazy Sales person\"\n",
    "    \n",
    "    "
   ]
  },
  {
   "cell_type": "code",
   "execution_count": 198,
   "id": "ee94666c",
   "metadata": {},
   "outputs": [
    {
     "data": {
      "text/plain": [
       "1020"
      ]
     },
     "execution_count": 198,
     "metadata": {},
     "output_type": "execute_result"
    }
   ],
   "source": [
    "sales(101)"
   ]
  },
  {
   "cell_type": "code",
   "execution_count": 226,
   "id": "8af21bdf",
   "metadata": {},
   "outputs": [],
   "source": [
    "def sales(q):\n",
    "    if q>100: \n",
    "        print(\"¢\", q*10+10, \"Well Done, you deserve the bonus\")\n",
    "    elif 50<=q<=100:\n",
    "        print (\"¢\", q*10)\n",
    "    else:\n",
    "        print(\"Sacked, you lazy Sales person\")\n",
    "    \n",
    "    "
   ]
  },
  {
   "cell_type": "code",
   "execution_count": 228,
   "id": "2d23493e",
   "metadata": {},
   "outputs": [
    {
     "name": "stdout",
     "output_type": "stream",
     "text": [
      "¢ 1020 Well Done, you deserve the bonus\n"
     ]
    }
   ],
   "source": [
    "sales(101)"
   ]
  },
  {
   "cell_type": "code",
   "execution_count": 246,
   "id": "22cd99b8",
   "metadata": {},
   "outputs": [],
   "source": [
    "def Johnny_Save(amount):\n",
    "    if amount >= 100:\n",
    "        return 100+10\n",
    "    elif amount <100:\n",
    "        return \"Johnny better saves more!\""
   ]
  },
  {
   "cell_type": "code",
   "execution_count": 248,
   "id": "ffa55a4e",
   "metadata": {},
   "outputs": [
    {
     "data": {
      "text/plain": [
       "'Johnny better saves more!'"
      ]
     },
     "execution_count": 248,
     "metadata": {},
     "output_type": "execute_result"
    }
   ],
   "source": [
    "Johnny_Save(00)"
   ]
  },
  {
   "cell_type": "code",
   "execution_count": 249,
   "id": "219f6507",
   "metadata": {},
   "outputs": [],
   "source": [
    "def subtract(a,b,c):\n",
    "    result = a-b*c\n",
    "    print('Parameter a equals', a)\n",
    "    print('Parameter b equals', b)  \n",
    "    print('Parameter c equals', c)    \n",
    "    return result"
   ]
  },
  {
   "cell_type": "code",
   "execution_count": 250,
   "id": "9cf72d25",
   "metadata": {},
   "outputs": [
    {
     "name": "stdout",
     "output_type": "stream",
     "text": [
      "Parameter a equals 100\n",
      "Parameter b equals 30\n",
      "Parameter c equals 20\n"
     ]
    },
    {
     "data": {
      "text/plain": [
       "-500"
      ]
     },
     "execution_count": 250,
     "metadata": {},
     "output_type": "execute_result"
    }
   ],
   "source": [
    "subtract(100, 30, 20)"
   ]
  },
  {
   "cell_type": "markdown",
   "id": "e2e2f281",
   "metadata": {},
   "source": [
    "## Built-In Functions"
   ]
  },
  {
   "cell_type": "code",
   "execution_count": 251,
   "id": "c096ed9a",
   "metadata": {},
   "outputs": [
    {
     "data": {
      "text/plain": [
       "300"
      ]
     },
     "execution_count": 251,
     "metadata": {},
     "output_type": "execute_result"
    }
   ],
   "source": [
    "max(100,200,300)  # max() returns maximum"
   ]
  },
  {
   "cell_type": "code",
   "execution_count": 252,
   "id": "e72ebd61",
   "metadata": {},
   "outputs": [
    {
     "data": {
      "text/plain": [
       "100"
      ]
     },
     "execution_count": 252,
     "metadata": {},
     "output_type": "execute_result"
    }
   ],
   "source": [
    "min(100,200,300)  # min() returns minimum"
   ]
  },
  {
   "cell_type": "code",
   "execution_count": 254,
   "id": "d39ae022",
   "metadata": {},
   "outputs": [
    {
     "data": {
      "text/plain": [
       "200"
      ]
     },
     "execution_count": 254,
     "metadata": {},
     "output_type": "execute_result"
    }
   ],
   "source": [
    "z=-200\n",
    "abs(z)  # abs() returns the absolute value of its argument"
   ]
  },
  {
   "cell_type": "code",
   "execution_count": 260,
   "id": "c4f45b64",
   "metadata": {},
   "outputs": [],
   "source": [
    "list_1 = [100,200,300] #sum() returns the summation of all alements in a list"
   ]
  },
  {
   "cell_type": "code",
   "execution_count": 261,
   "id": "4005d488",
   "metadata": {},
   "outputs": [
    {
     "data": {
      "text/plain": [
       "600"
      ]
     },
     "execution_count": 261,
     "metadata": {},
     "output_type": "execute_result"
    }
   ],
   "source": [
    "sum(list_1)"
   ]
  },
  {
   "cell_type": "code",
   "execution_count": 267,
   "id": "35372741",
   "metadata": {},
   "outputs": [
    {
     "data": {
      "text/plain": [
       "2.15"
      ]
     },
     "execution_count": 267,
     "metadata": {},
     "output_type": "execute_result"
    }
   ],
   "source": [
    "round(2.1545, 2) # round(x,y) returns the float of argument (x), rounded to a specified number (y)"
   ]
  },
  {
   "cell_type": "code",
   "execution_count": 266,
   "id": "5aac6921",
   "metadata": {},
   "outputs": [
    {
     "data": {
      "text/plain": [
       "4"
      ]
     },
     "execution_count": 266,
     "metadata": {},
     "output_type": "execute_result"
    }
   ],
   "source": [
    "pow(2,2) # pow(x,y) returns x to the power y"
   ]
  },
  {
   "cell_type": "code",
   "execution_count": 268,
   "id": "8aa13e0c",
   "metadata": {},
   "outputs": [
    {
     "data": {
      "text/plain": [
       "12"
      ]
     },
     "execution_count": 268,
     "metadata": {},
     "output_type": "execute_result"
    }
   ],
   "source": [
    "len(\"Mathemantics\") # len() returns the number of elements in an object"
   ]
  },
  {
   "cell_type": "code",
   "execution_count": null,
   "id": "c675f29a",
   "metadata": {},
   "outputs": [],
   "source": []
  }
 ],
 "metadata": {
  "kernelspec": {
   "display_name": "Python 3 (ipykernel)",
   "language": "python",
   "name": "python3"
  },
  "language_info": {
   "codemirror_mode": {
    "name": "ipython",
    "version": 3
   },
   "file_extension": ".py",
   "mimetype": "text/x-python",
   "name": "python",
   "nbconvert_exporter": "python",
   "pygments_lexer": "ipython3",
   "version": "3.9.12"
  }
 },
 "nbformat": 4,
 "nbformat_minor": 5
}
